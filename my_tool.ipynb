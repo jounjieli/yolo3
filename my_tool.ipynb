{
 "cells": [
  {
   "cell_type": "code",
   "execution_count": 4,
   "metadata": {},
   "outputs": [],
   "source": [
    "#生成訓練圖片目錄\n",
    "import os\n",
    "def gernerate_file_list(dir_path,save_path):\n",
    "    file_list = os.listdir(dir_path)\n",
    "    with open(save_path,\"w\") as f:\n",
    "        for file in file_list:\n",
    "            f.write(os.path.join(dir_path,file)+\"\\n\")\n",
    "\n",
    "dir_path = r\"D:\\Backup\\ml_data\\GitHub\\yolov3\\labelImg\\Mydata\\cat\\images\\val\"\n",
    "save_path = r\"D:\\Backup\\ml_data\\GitHub\\yolov3\\labelImg\\Mydata\\cat\\images\\val.txt\"\n",
    "gernerate_file_list(dir_path,save_path)"
   ]
  },
  {
   "cell_type": "code",
   "execution_count": 2,
   "metadata": {},
   "outputs": [
    {
     "name": "stdout",
     "output_type": "stream",
     "text": [
      "python D:\\Backup\\ml_data\\GitHub\\yolov3\\labelImg\\XmlToTxt-master\\xmltotxt.py -xml D:\\Backup\\ml_data\\GitHub\\yolov3\\labelImg\\Mydata\\cat\\labels_orgin\\train\\voc -out D:\\Backup\\ml_data\\GitHub\\yolov3\\labelImg\\Mydata\\cat\\labels_orgin\\train\\yolo -c D:\\Backup\\ml_data\\GitHub\\yolov3\\labelImg\\Mydata\\cat\\labels_orgin\\train\\classes.txt \n",
      "\n",
      "\n"
     ]
    },
    {
     "data": {
      "text/plain": [
       "(b'', b'')"
      ]
     },
     "execution_count": 2,
     "metadata": {},
     "output_type": "execute_result"
    }
   ],
   "source": [
    "#xml轉yolo\n",
    "import subprocess\n",
    "import os\n",
    "import sys\n",
    "def call_cmd(order):\n",
    "    sub_p = subprocess.Popen(order,\n",
    "                             shell=True,\n",
    "                             stdin=subprocess.PIPE,\n",
    "                             stdout=subprocess.PIPE,\n",
    "                             stderr=subprocess.PIPE)\n",
    "    stdout_value = sub_p.communicate()\n",
    "    encoding = \"big5\"\n",
    "    for out in stdout_value:\n",
    "        print(out.decode(encoding))\n",
    "    return stdout_value\n",
    "CONFIG_FILE = '.config_ipynb'\n",
    "if os.path.isfile(CONFIG_FILE):\n",
    "    with open(CONFIG_FILE) as f:\n",
    "        sys.argv = f.read().split()\n",
    "else:\n",
    "    xml = r\"-xml {0}\".format(r\"D:\\Backup\\ml_data\\GitHub\\yolov3\\labelImg\\Mydata\\cat\\labels_orgin\\train\\voc\")\n",
    "    out = r\"-out {0}\".format(r\"D:\\Backup\\ml_data\\GitHub\\yolov3\\labelImg\\Mydata\\cat\\labels_orgin\\train\\yolo\")\n",
    "    c = r\"-c {0}\".format(r\"D:\\Backup\\ml_data\\GitHub\\yolov3\\labelImg\\Mydata\\cat\\labels_orgin\\train\\classes.txt\")\n",
    "    sys.argv = [r\"D:\\Backup\\ml_data\\GitHub\\yolov3\\labelImg\\XmlToTxt-master\\xmltotxt.py\", xml, out,c]\n",
    "argv = \"python \"\n",
    "for arg in sys.argv:\n",
    "    argv = argv+arg+\" \"\n",
    "print(argv)\n",
    "call_cmd(argv)\n"
   ]
  },
  {
   "cell_type": "code",
   "execution_count": 1,
   "metadata": {},
   "outputs": [],
   "source": [
    "#圖片轉換整理\n",
    "from PIL import Image\n",
    "import os\n",
    "def get_file_list(dir_path,save_path):\n",
    "    file_list = os.listdir(dir_path)\n",
    "    for file_name in file_list:\n",
    "        pre, ext = os.path.splitext(file_name)\n",
    "        new_file_name = pre+\".png\"\n",
    "        file_path = os.path.join(dir_path,file_name)\n",
    "        save_file_path = os.path.join(save_path,new_file_name)\n",
    "        im = Image.open(file_path)\n",
    "        im =  im.convert('RGB')\n",
    "        im.save(save_file_path,dpi=(300,300))\n",
    "        \n",
    "dir_path = r\"D:\\Backup\\ml_data\\GitHub\\yolov3\\labelImg\\Mydata\\cat\\images\\add\"\n",
    "save_path = r\"D:\\Backup\\ml_data\\GitHub\\yolov3\\labelImg\\Mydata\\cat\\images\\transform\"\n",
    "get_file_list(dir_path,save_path)\n"
   ]
  },
  {
   "cell_type": "code",
   "execution_count": null,
   "metadata": {},
   "outputs": [],
   "source": []
  }
 ],
 "metadata": {
  "kernelspec": {
   "display_name": "Python 3",
   "language": "python",
   "name": "python3"
  },
  "language_info": {
   "codemirror_mode": {
    "name": "ipython",
    "version": 3
   },
   "file_extension": ".py",
   "mimetype": "text/x-python",
   "name": "python",
   "nbconvert_exporter": "python",
   "pygments_lexer": "ipython3",
   "version": "3.6.8"
  }
 },
 "nbformat": 4,
 "nbformat_minor": 2
}
